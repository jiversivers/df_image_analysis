{
 "cells": [
  {
   "metadata": {
    "ExecuteTime": {
     "end_time": "2025-02-27T18:37:18.592840Z",
     "start_time": "2025-02-27T18:37:18.249032Z"
    }
   },
   "cell_type": "code",
   "source": [
    "import sqlite3\n",
    "import pandas as pd\n",
    "import plotly.graph_objects as go\n",
    "import numpy as np\n",
    "from plotly_gif import GIF, three_d_scatter_rotate"
   ],
   "id": "3eec090e988dafae",
   "outputs": [],
   "execution_count": 1
  },
  {
   "cell_type": "code",
   "id": "initial_id",
   "metadata": {
    "collapsed": true,
    "ExecuteTime": {
     "end_time": "2025-02-27T18:37:18.598111Z",
     "start_time": "2025-02-27T18:37:18.593836Z"
    }
   },
   "source": [
    "def fetch_data(db_path, simulation_id):\n",
    "    conn = sqlite3.connect(db_path)\n",
    "    query = f\"SELECT mu_s, mu_a, g, reflectance FROM mclut WHERE simulation_id = {simulation_id}\"\n",
    "    df = pd.read_sql_query(query, conn)\n",
    "    conn.close()\n",
    "    return df\n",
    "\n",
    "def plot_wireframe(df):\n",
    "    unique_g_values = df['g'].unique()\n",
    "    for g in unique_g_values:\n",
    "        gif = GIF()\n",
    "        subset = df[df['g'] == g]\n",
    "        \n",
    "        # Pivot data for wireframe plotting\n",
    "        pivot_table = subset.pivot(index='mu_s', columns='mu_a', values='reflectance')\n",
    "        mu_s_values = pivot_table.index.values\n",
    "        mu_a_values = pivot_table.columns.values\n",
    "        reflectance_values = pivot_table.values\n",
    "        \n",
    "        mu_s_grid, mu_a_grid = np.meshgrid(mu_s_values, mu_a_values, indexing='ij')\n",
    "        \n",
    "        # Generate wireframe lines\n",
    "        lines = []\n",
    "        for i in range(len(mu_s_values)):\n",
    "            lines.append(go.Scatter3d(x=[mu_s_values[i]]*len(mu_a_values), \n",
    "                                      y=mu_a_values, \n",
    "                                      z=reflectance_values[i, :], \n",
    "                                      mode='lines',\n",
    "                                      line=dict(color='black', width=3)))\n",
    "        \n",
    "        for j in range(len(mu_a_values)):\n",
    "            lines.append(go.Scatter3d(x=mu_s_values, \n",
    "                                      y=[mu_a_values[j]]*len(mu_s_values), \n",
    "                                      z=reflectance_values[:, j], \n",
    "                                      mode='lines',\n",
    "                                      line=dict(color='black', width=3)))\n",
    "        \n",
    "        fig = go.Figure(data=lines)\n",
    "        fig.update_layout(title=f\"Reflectance Wireframe vs mu_s & mu_a (g={g})\",\n",
    "                          scene=dict(xaxis_title='mu_s', yaxis_title='mu_a', zaxis_title='Reflectance'))\n",
    "        three_d_scatter_rotate(gif, fig)\n",
    "        fig.show()\n",
    "        gif.create_gif(gif_path='mclut_wireframe_g-{g}.gif'.format(g=g))\n"
   ],
   "outputs": [],
   "execution_count": 2
  },
  {
   "metadata": {
    "jupyter": {
     "is_executing": true
    },
    "ExecuteTime": {
     "start_time": "2025-02-27T18:37:18.885687Z"
    }
   },
   "cell_type": "code",
   "source": [
    "df = fetch_data('databases/hsdfm_data.db', 14)\n",
    "plot_wireframe(df)"
   ],
   "id": "d20860af6b50bc06",
   "outputs": [],
   "execution_count": null
  },
  {
   "metadata": {},
   "cell_type": "code",
   "outputs": [],
   "execution_count": null,
   "source": "",
   "id": "a1951d7d7c65bde1"
  }
 ],
 "metadata": {
  "kernelspec": {
   "display_name": "Python 3",
   "language": "python",
   "name": "python3"
  },
  "language_info": {
   "codemirror_mode": {
    "name": "ipython",
    "version": 2
   },
   "file_extension": ".py",
   "mimetype": "text/x-python",
   "name": "python",
   "nbconvert_exporter": "python",
   "pygments_lexer": "ipython2",
   "version": "2.7.6"
  }
 },
 "nbformat": 4,
 "nbformat_minor": 5
}
